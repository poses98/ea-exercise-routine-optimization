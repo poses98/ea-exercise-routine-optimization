{
 "cells": [
  {
   "cell_type": "code",
   "execution_count": 203,
   "metadata": {
    "colab": {
     "base_uri": "https://localhost:8080/",
     "height": 447
    },
    "executionInfo": {
     "elapsed": 45,
     "status": "ok",
     "timestamp": 1743086198288,
     "user": {
      "displayName": "Pablo Oses",
      "userId": "17859425497206782554"
     },
     "user_tz": -60
    },
    "id": "jM7gEBTa8R8G",
    "outputId": "c86ed43d-989b-44be-afd5-a9cd079f5f32"
   },
   "outputs": [
    {
     "data": {
      "text/html": [
       "<div>\n",
       "<style scoped>\n",
       "    .dataframe tbody tr th:only-of-type {\n",
       "        vertical-align: middle;\n",
       "    }\n",
       "\n",
       "    .dataframe tbody tr th {\n",
       "        vertical-align: top;\n",
       "    }\n",
       "\n",
       "    .dataframe thead th {\n",
       "        text-align: right;\n",
       "    }\n",
       "</style>\n",
       "<table border=\"1\" class=\"dataframe\">\n",
       "  <thead>\n",
       "    <tr style=\"text-align: right;\">\n",
       "      <th></th>\n",
       "      <th>Exercise</th>\n",
       "      <th>ShortYouTubeDemonstration</th>\n",
       "      <th>InDepthYouTubeExplanation</th>\n",
       "      <th>DifficultyLevel</th>\n",
       "      <th>TargetMuscleGroup</th>\n",
       "      <th>PrimeMoverMuscle</th>\n",
       "      <th>SecondaryMuscle</th>\n",
       "      <th>TertiaryMuscle</th>\n",
       "      <th>PrimaryEquipment</th>\n",
       "      <th>#PrimaryItems</th>\n",
       "      <th>...</th>\n",
       "      <th>MovementPattern#2</th>\n",
       "      <th>MovementPattern#3</th>\n",
       "      <th>PlaneOfMotion#1</th>\n",
       "      <th>PlaneOfMotion#2</th>\n",
       "      <th>PlaneOfMotion#3</th>\n",
       "      <th>BodyRegion</th>\n",
       "      <th>ForceType</th>\n",
       "      <th>Mechanics</th>\n",
       "      <th>Laterality</th>\n",
       "      <th>PrimaryExerciseClassification</th>\n",
       "    </tr>\n",
       "  </thead>\n",
       "  <tbody>\n",
       "    <tr>\n",
       "      <th>0</th>\n",
       "      <td>Stability Ball Dead Bug</td>\n",
       "      <td>Video Demonstration</td>\n",
       "      <td>Video Explanation</td>\n",
       "      <td>Beginner</td>\n",
       "      <td>Abdominals</td>\n",
       "      <td>Rectus Abdominis</td>\n",
       "      <td>NaN</td>\n",
       "      <td>NaN</td>\n",
       "      <td>Stability Ball</td>\n",
       "      <td>1.0</td>\n",
       "      <td>...</td>\n",
       "      <td>NaN</td>\n",
       "      <td>NaN</td>\n",
       "      <td>Sagittal Plane</td>\n",
       "      <td>NaN</td>\n",
       "      <td>NaN</td>\n",
       "      <td>Midsection</td>\n",
       "      <td>Other</td>\n",
       "      <td>Compound</td>\n",
       "      <td>Contralateral</td>\n",
       "      <td>Postural</td>\n",
       "    </tr>\n",
       "    <tr>\n",
       "      <th>1</th>\n",
       "      <td>Bodyweight Glute Bridge</td>\n",
       "      <td>Video Demonstration</td>\n",
       "      <td>Video Explanation</td>\n",
       "      <td>Beginner</td>\n",
       "      <td>Glutes</td>\n",
       "      <td>Gluteus Maximus</td>\n",
       "      <td>NaN</td>\n",
       "      <td>NaN</td>\n",
       "      <td>Bodyweight</td>\n",
       "      <td>1.0</td>\n",
       "      <td>...</td>\n",
       "      <td>NaN</td>\n",
       "      <td>NaN</td>\n",
       "      <td>Sagittal Plane</td>\n",
       "      <td>NaN</td>\n",
       "      <td>NaN</td>\n",
       "      <td>Lower Body</td>\n",
       "      <td>Unsorted*</td>\n",
       "      <td>Compound</td>\n",
       "      <td>Bilateral</td>\n",
       "      <td>Bodybuilding</td>\n",
       "    </tr>\n",
       "    <tr>\n",
       "      <th>2</th>\n",
       "      <td>Bodyweight Bird Dog</td>\n",
       "      <td>Video Demonstration</td>\n",
       "      <td>Video Explanation</td>\n",
       "      <td>Beginner</td>\n",
       "      <td>Abdominals</td>\n",
       "      <td>Rectus Abdominis</td>\n",
       "      <td>NaN</td>\n",
       "      <td>NaN</td>\n",
       "      <td>Bodyweight</td>\n",
       "      <td>1.0</td>\n",
       "      <td>...</td>\n",
       "      <td>NaN</td>\n",
       "      <td>NaN</td>\n",
       "      <td>Sagittal Plane</td>\n",
       "      <td>NaN</td>\n",
       "      <td>NaN</td>\n",
       "      <td>Midsection</td>\n",
       "      <td>Other</td>\n",
       "      <td>Compound</td>\n",
       "      <td>Contralateral</td>\n",
       "      <td>Postural</td>\n",
       "    </tr>\n",
       "    <tr>\n",
       "      <th>3</th>\n",
       "      <td>Stability Ball Russian Twist</td>\n",
       "      <td>Video Demonstration</td>\n",
       "      <td>Video Explanation</td>\n",
       "      <td>Beginner</td>\n",
       "      <td>Abdominals</td>\n",
       "      <td>Obliques</td>\n",
       "      <td>Rectus Abdominis</td>\n",
       "      <td>NaN</td>\n",
       "      <td>Stability Ball</td>\n",
       "      <td>1.0</td>\n",
       "      <td>...</td>\n",
       "      <td>NaN</td>\n",
       "      <td>NaN</td>\n",
       "      <td>Transverse Plane</td>\n",
       "      <td>NaN</td>\n",
       "      <td>NaN</td>\n",
       "      <td>Midsection</td>\n",
       "      <td>Other</td>\n",
       "      <td>Compound</td>\n",
       "      <td>Bilateral</td>\n",
       "      <td>Unsorted*</td>\n",
       "    </tr>\n",
       "    <tr>\n",
       "      <th>4</th>\n",
       "      <td>Stability Ball Feet Elevated Crunch</td>\n",
       "      <td>Video Demonstration</td>\n",
       "      <td>Video Explanation</td>\n",
       "      <td>Beginner</td>\n",
       "      <td>Abdominals</td>\n",
       "      <td>Rectus Abdominis</td>\n",
       "      <td>NaN</td>\n",
       "      <td>NaN</td>\n",
       "      <td>Stability Ball</td>\n",
       "      <td>1.0</td>\n",
       "      <td>...</td>\n",
       "      <td>NaN</td>\n",
       "      <td>NaN</td>\n",
       "      <td>Sagittal Plane</td>\n",
       "      <td>NaN</td>\n",
       "      <td>NaN</td>\n",
       "      <td>Midsection</td>\n",
       "      <td>Other</td>\n",
       "      <td>Isolation</td>\n",
       "      <td>Bilateral</td>\n",
       "      <td>Unsorted*</td>\n",
       "    </tr>\n",
       "  </tbody>\n",
       "</table>\n",
       "<p>5 rows × 31 columns</p>\n",
       "</div>"
      ],
      "text/plain": [
       "                              Exercise ShortYouTubeDemonstration  \\\n",
       "0              Stability Ball Dead Bug       Video Demonstration   \n",
       "1              Bodyweight Glute Bridge       Video Demonstration   \n",
       "2                  Bodyweight Bird Dog       Video Demonstration   \n",
       "3         Stability Ball Russian Twist       Video Demonstration   \n",
       "4  Stability Ball Feet Elevated Crunch       Video Demonstration   \n",
       "\n",
       "  InDepthYouTubeExplanation DifficultyLevel TargetMuscleGroup  \\\n",
       "0         Video Explanation        Beginner        Abdominals   \n",
       "1         Video Explanation        Beginner            Glutes   \n",
       "2         Video Explanation        Beginner        Abdominals   \n",
       "3         Video Explanation        Beginner        Abdominals   \n",
       "4         Video Explanation        Beginner        Abdominals   \n",
       "\n",
       "   PrimeMoverMuscle   SecondaryMuscle TertiaryMuscle PrimaryEquipment  \\\n",
       "0  Rectus Abdominis               NaN            NaN   Stability Ball   \n",
       "1   Gluteus Maximus               NaN            NaN       Bodyweight   \n",
       "2  Rectus Abdominis               NaN            NaN       Bodyweight   \n",
       "3          Obliques  Rectus Abdominis            NaN   Stability Ball   \n",
       "4  Rectus Abdominis               NaN            NaN   Stability Ball   \n",
       "\n",
       "   #PrimaryItems  ... MovementPattern#2  MovementPattern#3   PlaneOfMotion#1  \\\n",
       "0            1.0  ...               NaN                NaN    Sagittal Plane   \n",
       "1            1.0  ...               NaN                NaN    Sagittal Plane   \n",
       "2            1.0  ...               NaN                NaN    Sagittal Plane   \n",
       "3            1.0  ...               NaN                NaN  Transverse Plane   \n",
       "4            1.0  ...               NaN                NaN    Sagittal Plane   \n",
       "\n",
       "  PlaneOfMotion#2 PlaneOfMotion#3  BodyRegion  ForceType  Mechanics  \\\n",
       "0             NaN             NaN  Midsection      Other   Compound   \n",
       "1             NaN             NaN  Lower Body  Unsorted*   Compound   \n",
       "2             NaN             NaN  Midsection      Other   Compound   \n",
       "3             NaN             NaN  Midsection      Other   Compound   \n",
       "4             NaN             NaN  Midsection      Other  Isolation   \n",
       "\n",
       "      Laterality PrimaryExerciseClassification  \n",
       "0  Contralateral                      Postural  \n",
       "1      Bilateral                  Bodybuilding  \n",
       "2  Contralateral                      Postural  \n",
       "3      Bilateral                     Unsorted*  \n",
       "4      Bilateral                     Unsorted*  \n",
       "\n",
       "[5 rows x 31 columns]"
      ]
     },
     "execution_count": 203,
     "metadata": {},
     "output_type": "execute_result"
    }
   ],
   "source": [
    "import pandas as pd\n",
    "\n",
    "df = pd.read_csv('../assets/data.csv')\n",
    "df.head()"
   ]
  },
  {
   "cell_type": "code",
   "execution_count": 204,
   "metadata": {},
   "outputs": [
    {
     "name": "stdout",
     "output_type": "stream",
     "text": [
      "Index(['Exercise', 'ShortYouTubeDemonstration', 'InDepthYouTubeExplanation',\n",
      "       'DifficultyLevel', 'TargetMuscleGroup', 'PrimeMoverMuscle',\n",
      "       'SecondaryMuscle', 'TertiaryMuscle', 'PrimaryEquipment',\n",
      "       '#PrimaryItems', 'SecondaryEquipment', '#SecondaryItems', 'Posture',\n",
      "       'SingleorDoubleArm', 'ContinuousorAlternatingArms', 'Grip',\n",
      "       'LoadPositionEnding', 'ContinuousorAlternatingLegs', 'FootElevation',\n",
      "       'CombinationExercises', 'MovementPattern#1', 'MovementPattern#2',\n",
      "       'MovementPattern#3', 'PlaneOfMotion#1', 'PlaneOfMotion#2',\n",
      "       'PlaneOfMotion#3', 'BodyRegion', 'ForceType', 'Mechanics', 'Laterality',\n",
      "       'PrimaryExerciseClassification'],\n",
      "      dtype='object')\n"
     ]
    }
   ],
   "source": [
    "# List of columns\n",
    "print(df.columns)"
   ]
  },
  {
   "cell_type": "markdown",
   "metadata": {
    "id": "L8RQ1mC_-40Q"
   },
   "source": [
    "# Exploring the dataset"
   ]
  },
  {
   "cell_type": "markdown",
   "metadata": {
    "id": "kDpOQrUj_bxj"
   },
   "source": [
    "## DifficultyLevel\n",
    "\n",
    "Simply the difficulty level of the exercise."
   ]
  },
  {
   "cell_type": "code",
   "execution_count": 205,
   "metadata": {
    "colab": {
     "base_uri": "https://localhost:8080/",
     "height": 366
    },
    "executionInfo": {
     "elapsed": 22,
     "status": "ok",
     "timestamp": 1743086138228,
     "user": {
      "displayName": "Pablo Oses",
      "userId": "17859425497206782554"
     },
     "user_tz": -60
    },
    "id": "4eJPqmOF_df3",
    "outputId": "dbbc4f84-f4ce-4763-9abe-b062c59da51f"
   },
   "outputs": [
    {
     "data": {
      "text/plain": [
       "DifficultyLevel\n",
       "Novice          1035\n",
       "Intermediate    1033\n",
       "Advanced         428\n",
       "Beginner         359\n",
       "Expert           118\n",
       "Master            32\n",
       "Grand Master       8\n",
       "Legendary          3\n",
       "Name: count, dtype: int64"
      ]
     },
     "execution_count": 205,
     "metadata": {},
     "output_type": "execute_result"
    }
   ],
   "source": [
    "df['DifficultyLevel'].value_counts()"
   ]
  },
  {
   "cell_type": "markdown",
   "metadata": {
    "id": "Lvev_YVuDCf9"
   },
   "source": [
    "This data could be changed to ordinal encoding so it is easier to compute than just categories:\n",
    "  - Novice = 0\n",
    "  - Intermediate = 1\n",
    "  - And so on"
   ]
  },
  {
   "cell_type": "markdown",
   "metadata": {
    "id": "EpePYUBi-8wE"
   },
   "source": [
    "## Muscles Involved\n",
    "\n",
    "Primary muscle group exercised, below we have the muscles that conform the target muscular group in each exercise"
   ]
  },
  {
   "cell_type": "code",
   "execution_count": 206,
   "metadata": {
    "colab": {
     "base_uri": "https://localhost:8080/",
     "height": 447
    },
    "executionInfo": {
     "elapsed": 27,
     "status": "ok",
     "timestamp": 1743086817056,
     "user": {
      "displayName": "Pablo Oses",
      "userId": "17859425497206782554"
     },
     "user_tz": -60
    },
    "id": "bG-RcBk9EXEk",
    "outputId": "3d7b0c05-c449-413c-c513-b7fd9c357781"
   },
   "outputs": [
    {
     "data": {
      "text/html": [
       "<div>\n",
       "<style scoped>\n",
       "    .dataframe tbody tr th:only-of-type {\n",
       "        vertical-align: middle;\n",
       "    }\n",
       "\n",
       "    .dataframe tbody tr th {\n",
       "        vertical-align: top;\n",
       "    }\n",
       "\n",
       "    .dataframe thead th {\n",
       "        text-align: right;\n",
       "    }\n",
       "</style>\n",
       "<table border=\"1\" class=\"dataframe\">\n",
       "  <thead>\n",
       "    <tr style=\"text-align: right;\">\n",
       "      <th></th>\n",
       "      <th>Exercise</th>\n",
       "      <th>ShortYouTubeDemonstration</th>\n",
       "      <th>InDepthYouTubeExplanation</th>\n",
       "      <th>DifficultyLevel</th>\n",
       "      <th>TargetMuscleGroup</th>\n",
       "      <th>PrimeMoverMuscle</th>\n",
       "      <th>SecondaryMuscle</th>\n",
       "      <th>TertiaryMuscle</th>\n",
       "      <th>PrimaryEquipment</th>\n",
       "      <th>#PrimaryItems</th>\n",
       "      <th>...</th>\n",
       "      <th>MovementPattern#2</th>\n",
       "      <th>MovementPattern#3</th>\n",
       "      <th>PlaneOfMotion#1</th>\n",
       "      <th>PlaneOfMotion#2</th>\n",
       "      <th>PlaneOfMotion#3</th>\n",
       "      <th>BodyRegion</th>\n",
       "      <th>ForceType</th>\n",
       "      <th>Mechanics</th>\n",
       "      <th>Laterality</th>\n",
       "      <th>PrimaryExerciseClassification</th>\n",
       "    </tr>\n",
       "  </thead>\n",
       "  <tbody>\n",
       "    <tr>\n",
       "      <th>0</th>\n",
       "      <td>Stability Ball Dead Bug</td>\n",
       "      <td>Video Demonstration</td>\n",
       "      <td>Video Explanation</td>\n",
       "      <td>Beginner</td>\n",
       "      <td>Abdominals</td>\n",
       "      <td>Rectus Abdominis</td>\n",
       "      <td>NaN</td>\n",
       "      <td>NaN</td>\n",
       "      <td>Stability Ball</td>\n",
       "      <td>1.0</td>\n",
       "      <td>...</td>\n",
       "      <td>NaN</td>\n",
       "      <td>NaN</td>\n",
       "      <td>Sagittal Plane</td>\n",
       "      <td>NaN</td>\n",
       "      <td>NaN</td>\n",
       "      <td>Midsection</td>\n",
       "      <td>Other</td>\n",
       "      <td>Compound</td>\n",
       "      <td>Contralateral</td>\n",
       "      <td>Postural</td>\n",
       "    </tr>\n",
       "    <tr>\n",
       "      <th>1</th>\n",
       "      <td>Bodyweight Glute Bridge</td>\n",
       "      <td>Video Demonstration</td>\n",
       "      <td>Video Explanation</td>\n",
       "      <td>Beginner</td>\n",
       "      <td>Glutes</td>\n",
       "      <td>Gluteus Maximus</td>\n",
       "      <td>NaN</td>\n",
       "      <td>NaN</td>\n",
       "      <td>Bodyweight</td>\n",
       "      <td>1.0</td>\n",
       "      <td>...</td>\n",
       "      <td>NaN</td>\n",
       "      <td>NaN</td>\n",
       "      <td>Sagittal Plane</td>\n",
       "      <td>NaN</td>\n",
       "      <td>NaN</td>\n",
       "      <td>Lower Body</td>\n",
       "      <td>Unsorted*</td>\n",
       "      <td>Compound</td>\n",
       "      <td>Bilateral</td>\n",
       "      <td>Bodybuilding</td>\n",
       "    </tr>\n",
       "    <tr>\n",
       "      <th>2</th>\n",
       "      <td>Bodyweight Bird Dog</td>\n",
       "      <td>Video Demonstration</td>\n",
       "      <td>Video Explanation</td>\n",
       "      <td>Beginner</td>\n",
       "      <td>Abdominals</td>\n",
       "      <td>Rectus Abdominis</td>\n",
       "      <td>NaN</td>\n",
       "      <td>NaN</td>\n",
       "      <td>Bodyweight</td>\n",
       "      <td>1.0</td>\n",
       "      <td>...</td>\n",
       "      <td>NaN</td>\n",
       "      <td>NaN</td>\n",
       "      <td>Sagittal Plane</td>\n",
       "      <td>NaN</td>\n",
       "      <td>NaN</td>\n",
       "      <td>Midsection</td>\n",
       "      <td>Other</td>\n",
       "      <td>Compound</td>\n",
       "      <td>Contralateral</td>\n",
       "      <td>Postural</td>\n",
       "    </tr>\n",
       "    <tr>\n",
       "      <th>3</th>\n",
       "      <td>Stability Ball Russian Twist</td>\n",
       "      <td>Video Demonstration</td>\n",
       "      <td>Video Explanation</td>\n",
       "      <td>Beginner</td>\n",
       "      <td>Abdominals</td>\n",
       "      <td>Obliques</td>\n",
       "      <td>Rectus Abdominis</td>\n",
       "      <td>NaN</td>\n",
       "      <td>Stability Ball</td>\n",
       "      <td>1.0</td>\n",
       "      <td>...</td>\n",
       "      <td>NaN</td>\n",
       "      <td>NaN</td>\n",
       "      <td>Transverse Plane</td>\n",
       "      <td>NaN</td>\n",
       "      <td>NaN</td>\n",
       "      <td>Midsection</td>\n",
       "      <td>Other</td>\n",
       "      <td>Compound</td>\n",
       "      <td>Bilateral</td>\n",
       "      <td>Unsorted*</td>\n",
       "    </tr>\n",
       "    <tr>\n",
       "      <th>4</th>\n",
       "      <td>Stability Ball Feet Elevated Crunch</td>\n",
       "      <td>Video Demonstration</td>\n",
       "      <td>Video Explanation</td>\n",
       "      <td>Beginner</td>\n",
       "      <td>Abdominals</td>\n",
       "      <td>Rectus Abdominis</td>\n",
       "      <td>NaN</td>\n",
       "      <td>NaN</td>\n",
       "      <td>Stability Ball</td>\n",
       "      <td>1.0</td>\n",
       "      <td>...</td>\n",
       "      <td>NaN</td>\n",
       "      <td>NaN</td>\n",
       "      <td>Sagittal Plane</td>\n",
       "      <td>NaN</td>\n",
       "      <td>NaN</td>\n",
       "      <td>Midsection</td>\n",
       "      <td>Other</td>\n",
       "      <td>Isolation</td>\n",
       "      <td>Bilateral</td>\n",
       "      <td>Unsorted*</td>\n",
       "    </tr>\n",
       "  </tbody>\n",
       "</table>\n",
       "<p>5 rows × 31 columns</p>\n",
       "</div>"
      ],
      "text/plain": [
       "                              Exercise ShortYouTubeDemonstration  \\\n",
       "0              Stability Ball Dead Bug       Video Demonstration   \n",
       "1              Bodyweight Glute Bridge       Video Demonstration   \n",
       "2                  Bodyweight Bird Dog       Video Demonstration   \n",
       "3         Stability Ball Russian Twist       Video Demonstration   \n",
       "4  Stability Ball Feet Elevated Crunch       Video Demonstration   \n",
       "\n",
       "  InDepthYouTubeExplanation DifficultyLevel TargetMuscleGroup  \\\n",
       "0         Video Explanation        Beginner        Abdominals   \n",
       "1         Video Explanation        Beginner            Glutes   \n",
       "2         Video Explanation        Beginner        Abdominals   \n",
       "3         Video Explanation        Beginner        Abdominals   \n",
       "4         Video Explanation        Beginner        Abdominals   \n",
       "\n",
       "   PrimeMoverMuscle   SecondaryMuscle TertiaryMuscle PrimaryEquipment  \\\n",
       "0  Rectus Abdominis               NaN            NaN   Stability Ball   \n",
       "1   Gluteus Maximus               NaN            NaN       Bodyweight   \n",
       "2  Rectus Abdominis               NaN            NaN       Bodyweight   \n",
       "3          Obliques  Rectus Abdominis            NaN   Stability Ball   \n",
       "4  Rectus Abdominis               NaN            NaN   Stability Ball   \n",
       "\n",
       "   #PrimaryItems  ... MovementPattern#2  MovementPattern#3   PlaneOfMotion#1  \\\n",
       "0            1.0  ...               NaN                NaN    Sagittal Plane   \n",
       "1            1.0  ...               NaN                NaN    Sagittal Plane   \n",
       "2            1.0  ...               NaN                NaN    Sagittal Plane   \n",
       "3            1.0  ...               NaN                NaN  Transverse Plane   \n",
       "4            1.0  ...               NaN                NaN    Sagittal Plane   \n",
       "\n",
       "  PlaneOfMotion#2 PlaneOfMotion#3  BodyRegion  ForceType  Mechanics  \\\n",
       "0             NaN             NaN  Midsection      Other   Compound   \n",
       "1             NaN             NaN  Lower Body  Unsorted*   Compound   \n",
       "2             NaN             NaN  Midsection      Other   Compound   \n",
       "3             NaN             NaN  Midsection      Other   Compound   \n",
       "4             NaN             NaN  Midsection      Other  Isolation   \n",
       "\n",
       "      Laterality PrimaryExerciseClassification  \n",
       "0  Contralateral                      Postural  \n",
       "1      Bilateral                  Bodybuilding  \n",
       "2  Contralateral                      Postural  \n",
       "3      Bilateral                     Unsorted*  \n",
       "4      Bilateral                     Unsorted*  \n",
       "\n",
       "[5 rows x 31 columns]"
      ]
     },
     "execution_count": 206,
     "metadata": {},
     "output_type": "execute_result"
    }
   ],
   "source": [
    "df.head()"
   ]
  },
  {
   "cell_type": "markdown",
   "metadata": {
    "id": "frIM68xBESUl"
   },
   "source": [
    "### Target Muscle Group"
   ]
  },
  {
   "cell_type": "code",
   "execution_count": 207,
   "metadata": {
    "colab": {
     "base_uri": "https://localhost:8080/",
     "height": 617
    },
    "collapsed": true,
    "executionInfo": {
     "elapsed": 18,
     "status": "ok",
     "timestamp": 1743086138230,
     "user": {
      "displayName": "Pablo Oses",
      "userId": "17859425497206782554"
     },
     "user_tz": -60
    },
    "id": "MGyEa3eC9UbX",
    "outputId": "c8fa924d-d5a4-4009-cd07-d422d6736fb5"
   },
   "outputs": [
    {
     "data": {
      "text/plain": [
       "TargetMuscleGroup\n",
       "Quadriceps     1296\n",
       "Shoulders       497\n",
       "Abdominals      404\n",
       "Glutes          171\n",
       "Back            170\n",
       "Chest           153\n",
       "Biceps           91\n",
       "Triceps          63\n",
       "Calves           49\n",
       "Hamstrings       41\n",
       "Forearms         22\n",
       "Trapezius        19\n",
       "Abductors        18\n",
       "Adductors        14\n",
       "Shins             6\n",
       "Hip Flexors       2\n",
       "Name: count, dtype: int64"
      ]
     },
     "execution_count": 207,
     "metadata": {},
     "output_type": "execute_result"
    }
   ],
   "source": [
    "df['TargetMuscleGroup'].value_counts()"
   ]
  },
  {
   "cell_type": "markdown",
   "metadata": {
    "id": "ZQcjAgK8DS5U"
   },
   "source": [
    "This data can also be encoded in an ordinal way or just keep the categories as they are..."
   ]
  },
  {
   "cell_type": "markdown",
   "metadata": {
    "id": "Cdns1oRg_Q8z"
   },
   "source": [
    "### PrimeMoverMuscle\n",
    "\n",
    "Pretty much the same as the target group but divided into the muscles that conform the muscle group"
   ]
  },
  {
   "cell_type": "code",
   "execution_count": 208,
   "metadata": {
    "colab": {
     "base_uri": "https://localhost:8080/",
     "height": 868
    },
    "executionInfo": {
     "elapsed": 23,
     "status": "ok",
     "timestamp": 1743086138249,
     "user": {
      "displayName": "Pablo Oses",
      "userId": "17859425497206782554"
     },
     "user_tz": -60
    },
    "id": "fe-e5ssc_TEB",
    "outputId": "d8231f91-49dd-4793-e95a-15a6eae09413"
   },
   "outputs": [
    {
     "data": {
      "text/plain": [
       "PrimeMoverMuscle\n",
       "Quadriceps Femoris    1290\n",
       "Anterior Deltoids      335\n",
       "Rectus Abdominis       288\n",
       "Gluteus Maximus        174\n",
       "Latissimus Dorsi       161\n",
       "Pectoralis Major       153\n",
       "Posterior Deltoids     142\n",
       "Obliques               116\n",
       "Biceps Brachii          91\n",
       "Triceps Brachii         63\n",
       "Biceps Femoris          41\n",
       "Gastrocnemius           29\n",
       "Brachioradialis         22\n",
       "Soleus                  20\n",
       "Gluteus Medius          20\n",
       "Upper Trapezius         19\n",
       "Adductor Magnus         14\n",
       "Medial Deltoids         12\n",
       "Erector Spinae           9\n",
       "Tibialis Anterior        6\n",
       "Infraspinatus            5\n",
       "Serratus Anterior        3\n",
       "Iliopsoas                2\n",
       "Subscapularis            1\n",
       "Name: count, dtype: int64"
      ]
     },
     "execution_count": 208,
     "metadata": {},
     "output_type": "execute_result"
    }
   ],
   "source": [
    "df['PrimeMoverMuscle'].value_counts()"
   ]
  },
  {
   "cell_type": "markdown",
   "metadata": {
    "id": "5wni-XVA_F8z"
   },
   "source": [
    "### SecondaryMuscle\n",
    "\n",
    "Secondary muscle exercised while doing the exercise in the target muscle group"
   ]
  },
  {
   "cell_type": "code",
   "execution_count": 209,
   "metadata": {
    "colab": {
     "base_uri": "https://localhost:8080/",
     "height": 900
    },
    "executionInfo": {
     "elapsed": 5,
     "status": "ok",
     "timestamp": 1743086138256,
     "user": {
      "displayName": "Pablo Oses",
      "userId": "17859425497206782554"
     },
     "user_tz": -60
    },
    "id": "R4tWl-HC-kCi",
    "outputId": "e32da555-0fea-46d7-8807-3159dccd1b08"
   },
   "outputs": [
    {
     "data": {
      "text/plain": [
       "SecondaryMuscle\n",
       "Gluteus Maximus       1110\n",
       "Triceps Brachii        330\n",
       "Adductor Magnus        252\n",
       "Rectus Abdominis       155\n",
       "Anterior Deltoids       80\n",
       "Brachialis              69\n",
       "Biceps Brachii          59\n",
       "Quadriceps Femoris      40\n",
       "Pectoralis Major        39\n",
       "Obliques                29\n",
       "Soleus                  28\n",
       "Infraspinatus           27\n",
       "Rhomboids               22\n",
       "Biceps Femoris          19\n",
       "Posterior Deltoids      19\n",
       "Gluteus Minimus         17\n",
       "Gluteus Medius          15\n",
       "Latissimus Dorsi        13\n",
       "Triceps Brachaii         9\n",
       "Iliopsoas                6\n",
       "Medial Deltoids          5\n",
       "Subscapularis            3\n",
       "Brachioradialis          3\n",
       "Rectus Femoris           2\n",
       "Teres Major              1\n",
       "Name: count, dtype: int64"
      ]
     },
     "execution_count": 209,
     "metadata": {},
     "output_type": "execute_result"
    }
   ],
   "source": [
    "df['SecondaryMuscle'].value_counts()"
   ]
  },
  {
   "cell_type": "markdown",
   "metadata": {
    "id": "lnZF9Dsg_nxI"
   },
   "source": [
    "### TertiaryMuscle\n",
    "\n",
    "Tertiary muscle exercised in the target muscle group"
   ]
  },
  {
   "cell_type": "code",
   "execution_count": 210,
   "metadata": {
    "colab": {
     "base_uri": "https://localhost:8080/",
     "height": 743
    },
    "executionInfo": {
     "elapsed": 14,
     "status": "ok",
     "timestamp": 1743086138272,
     "user": {
      "displayName": "Pablo Oses",
      "userId": "17859425497206782554"
     },
     "user_tz": -60
    },
    "id": "9S64JaBv_on6",
    "outputId": "7dd8f8c6-a00a-4496-8a2b-fedf7464ec0c"
   },
   "outputs": [
    {
     "data": {
      "text/plain": [
       "TertiaryMuscle\n",
       "Gluteus Maximus         299\n",
       "Biceps Femoris          171\n",
       "Brachioradialis          98\n",
       "Rectus Abdominis         54\n",
       "Anterior Deltoids        54\n",
       "Gluteus Minimus          36\n",
       "Teres Minor              27\n",
       "Posterior Deltoids       21\n",
       "Obliques                 19\n",
       "Biceps Brachii           17\n",
       "Tensor Fasciae Latae     12\n",
       "Triceps Brachii           9\n",
       "Quadriceps Femoris        8\n",
       "Brachialis                8\n",
       "Rectus Femoris            6\n",
       "Adductor Magnus           4\n",
       "Latissimus Dorsi          3\n",
       "Pectoralis Major          2\n",
       "Erector Spinae            1\n",
       "Trapezius                 1\n",
       "Name: count, dtype: int64"
      ]
     },
     "execution_count": 210,
     "metadata": {},
     "output_type": "execute_result"
    }
   ],
   "source": [
    "df['TertiaryMuscle'].value_counts()"
   ]
  },
  {
   "cell_type": "markdown",
   "metadata": {
    "id": "tf88rsf9_r-a"
   },
   "source": [
    "## PrimaryEquipment\n",
    "\n",
    "Equipment needed in order to do the exercise"
   ]
  },
  {
   "cell_type": "code",
   "execution_count": 211,
   "metadata": {
    "colab": {
     "base_uri": "https://localhost:8080/",
     "height": 1000
    },
    "executionInfo": {
     "elapsed": 125,
     "status": "ok",
     "timestamp": 1743086138386,
     "user": {
      "displayName": "Pablo Oses",
      "userId": "17859425497206782554"
     },
     "user_tz": -60
    },
    "id": "rlEhLbvh_rnp",
    "outputId": "16745240-1c9d-4ff7-d108-2748add7cf52"
   },
   "outputs": [
    {
     "data": {
      "text/plain": [
       "PrimaryEquipment\n",
       "Kettlebell            808\n",
       "Dumbbell              448\n",
       "Barbell               252\n",
       "Clubbell              197\n",
       "Bodyweight            189\n",
       "Sliders               153\n",
       "Gymnastic Rings       121\n",
       "Macebell              107\n",
       "Suspension Trainer     78\n",
       "Cable                  74\n",
       "Landmine               63\n",
       "Stability Ball         51\n",
       "Heavy Sandbag          51\n",
       "Pull Up Bar            48\n",
       "Parallette Bars        44\n",
       "Sandbag                38\n",
       "Weight Plate           37\n",
       "Bulgarian Bag          36\n",
       "Resistance Band        31\n",
       "Miniband               31\n",
       "Superband              30\n",
       "Battle Ropes           30\n",
       "Tire                   25\n",
       "EZ Bar                 24\n",
       "Trap Bar               22\n",
       "Indian Club            12\n",
       "Wall Ball               9\n",
       "Medicine Ball           3\n",
       "Ab Wheel                2\n",
       "Slam Ball               2\n",
       "Name: count, dtype: int64"
      ]
     },
     "execution_count": 211,
     "metadata": {},
     "output_type": "execute_result"
    }
   ],
   "source": [
    "df['PrimaryEquipment'].value_counts()"
   ]
  },
  {
   "cell_type": "markdown",
   "metadata": {
    "id": "8FzmnDbRAB2V"
   },
   "source": [
    "## Number of Primary Items\n",
    "\n",
    "Number of the equipment stated in Primary Equipment needed to perform the exercise"
   ]
  },
  {
   "cell_type": "code",
   "execution_count": 212,
   "metadata": {
    "colab": {
     "base_uri": "https://localhost:8080/",
     "height": 178
    },
    "executionInfo": {
     "elapsed": 4,
     "status": "ok",
     "timestamp": 1743086138389,
     "user": {
      "displayName": "Pablo Oses",
      "userId": "17859425497206782554"
     },
     "user_tz": -60
    },
    "id": "b9XuUN8IAETY",
    "outputId": "6b716efb-a627-4909-981b-3d5696c1dd17"
   },
   "outputs": [
    {
     "data": {
      "text/plain": [
       "#PrimaryItems\n",
       "1.0    2224\n",
       "2.0     791\n",
       "Name: count, dtype: int64"
      ]
     },
     "execution_count": 212,
     "metadata": {},
     "output_type": "execute_result"
    }
   ],
   "source": [
    "df['#PrimaryItems'].value_counts()"
   ]
  },
  {
   "cell_type": "markdown",
   "metadata": {
    "id": "iU2tx5KeAG0j"
   },
   "source": [
    "## SecondaryEquipment"
   ]
  },
  {
   "cell_type": "code",
   "execution_count": 213,
   "metadata": {
    "colab": {
     "base_uri": "https://localhost:8080/",
     "height": 774
    },
    "executionInfo": {
     "elapsed": 14,
     "status": "ok",
     "timestamp": 1743086138406,
     "user": {
      "displayName": "Pablo Oses",
      "userId": "17859425497206782554"
     },
     "user_tz": -60
    },
    "id": "Q9YL24mpAMBF",
    "outputId": "fca1b371-d2c5-42b4-bdd1-89cb34143268"
   },
   "outputs": [
    {
     "data": {
      "text/plain": [
       "SecondaryEquipment\n",
       "Bench (Flat)          202\n",
       "Plyo Box              147\n",
       "Bench (Incline)        58\n",
       "Slant Board            53\n",
       "Kettlebell             50\n",
       "Dumbbell               36\n",
       "Bench (Decline)        21\n",
       "Barbell                12\n",
       "Clubbell               12\n",
       "Landmine               11\n",
       "Macebell               10\n",
       "Weight Plate            4\n",
       "Sandbag                 4\n",
       "Suspension Trainer      3\n",
       "Miniband                2\n",
       "Pull Up Bar             2\n",
       "Cable                   2\n",
       "Bulgarian Bag           2\n",
       "Sledge Hammer           1\n",
       "Parallette Bars         1\n",
       "Gravity Boots           1\n",
       "Name: count, dtype: int64"
      ]
     },
     "execution_count": 213,
     "metadata": {},
     "output_type": "execute_result"
    }
   ],
   "source": [
    "df['SecondaryEquipment'].value_counts()"
   ]
  },
  {
   "cell_type": "markdown",
   "metadata": {
    "id": "OWRqSaVgALcR"
   },
   "source": [
    "## Number of Secondary Items"
   ]
  },
  {
   "cell_type": "code",
   "execution_count": 214,
   "metadata": {
    "colab": {
     "base_uri": "https://localhost:8080/",
     "height": 210
    },
    "executionInfo": {
     "elapsed": 5,
     "status": "ok",
     "timestamp": 1743086138413,
     "user": {
      "displayName": "Pablo Oses",
      "userId": "17859425497206782554"
     },
     "user_tz": -60
    },
    "id": "9wyMN3hEAQ9m",
    "outputId": "14175ca5-f377-4923-fc3a-86d53ae372be"
   },
   "outputs": [
    {
     "data": {
      "text/plain": [
       "#SecondaryItems\n",
       "0.0    2374\n",
       "1.0     608\n",
       "2.0      33\n",
       "Name: count, dtype: int64"
      ]
     },
     "execution_count": 214,
     "metadata": {},
     "output_type": "execute_result"
    }
   ],
   "source": [
    "df['#SecondaryItems'].value_counts()"
   ]
  },
  {
   "cell_type": "markdown",
   "metadata": {
    "id": "BfoH6Z4uAQoB"
   },
   "source": [
    "## Posture"
   ]
  },
  {
   "cell_type": "code",
   "execution_count": 215,
   "metadata": {
    "colab": {
     "base_uri": "https://localhost:8080/",
     "height": 1000
    },
    "executionInfo": {
     "elapsed": 96,
     "status": "ok",
     "timestamp": 1743086138511,
     "user": {
      "displayName": "Pablo Oses",
      "userId": "17859425497206782554"
     },
     "user_tz": -60
    },
    "id": "GljEm6K0BRIK",
    "outputId": "712f2cf3-3f13-474d-d0e7-adc423150e8d"
   },
   "outputs": [
    {
     "data": {
      "text/plain": [
       "Posture\n",
       "Standing                         1549\n",
       "Prone                             183\n",
       "Supine                            175\n",
       "Hanging                           110\n",
       "Single Leg Standing Bent Knee     106\n",
       "Knee Over Toe Split Squat          92\n",
       "Seated                             82\n",
       "Walking                            77\n",
       "Single Leg Standing                75\n",
       "Split Squat                        64\n",
       "Single Leg Supported               59\n",
       "Tall Kneeling                      55\n",
       "Seated Floor                       51\n",
       "Half Kneeling                      51\n",
       "Inverted                           42\n",
       "Staggered Stance                   42\n",
       "March                              30\n",
       "Split Squat Isometric              30\n",
       "Bridge                             29\n",
       "Side Plank                         23\n",
       "L Sit                              14\n",
       "Other                              12\n",
       "Quadruped                          11\n",
       "Kneeling                           10\n",
       "Single Leg Bridge                  10\n",
       "Knee Hover Quadruped                9\n",
       "Side Lying                          6\n",
       "Tuck L Sit                          4\n",
       "Knee Supported                      3\n",
       "Toe Balance                         3\n",
       "Shin Box Seated                     3\n",
       "Wall Sit                            2\n",
       "V Sit Seated                        2\n",
       "90/90 Seated                        1\n",
       "Horse Stance                        1\n",
       "Name: count, dtype: int64"
      ]
     },
     "execution_count": 215,
     "metadata": {},
     "output_type": "execute_result"
    }
   ],
   "source": [
    "df['Posture'].value_counts()"
   ]
  },
  {
   "cell_type": "markdown",
   "metadata": {
    "id": "HF9EaBRnAhpy"
   },
   "source": [
    "## Single or Double Arm"
   ]
  },
  {
   "cell_type": "code",
   "execution_count": 216,
   "metadata": {
    "colab": {
     "base_uri": "https://localhost:8080/",
     "height": 210
    },
    "executionInfo": {
     "elapsed": 27,
     "status": "ok",
     "timestamp": 1743086138541,
     "user": {
      "displayName": "Pablo Oses",
      "userId": "17859425497206782554"
     },
     "user_tz": -60
    },
    "id": "jG3CUDCRBTvy",
    "outputId": "390c2cad-3da2-450f-89e4-43214d7c9168"
   },
   "outputs": [
    {
     "data": {
      "text/plain": [
       "SingleorDoubleArm\n",
       "Double Arm    1939\n",
       "Single Arm     887\n",
       "No Arms        190\n",
       "Name: count, dtype: int64"
      ]
     },
     "execution_count": 216,
     "metadata": {},
     "output_type": "execute_result"
    }
   ],
   "source": [
    "df['SingleorDoubleArm'].value_counts()"
   ]
  },
  {
   "cell_type": "markdown",
   "metadata": {
    "id": "rgYv0-DDAkdu"
   },
   "source": [
    "## Continuous or Alternating Arms"
   ]
  },
  {
   "cell_type": "code",
   "execution_count": 217,
   "metadata": {
    "colab": {
     "base_uri": "https://localhost:8080/",
     "height": 178
    },
    "executionInfo": {
     "elapsed": 2,
     "status": "ok",
     "timestamp": 1743086138545,
     "user": {
      "displayName": "Pablo Oses",
      "userId": "17859425497206782554"
     },
     "user_tz": -60
    },
    "id": "35WTBr_hBXiO",
    "outputId": "fbd469ba-d912-4b35-e7f2-cd0c85b4c8d7"
   },
   "outputs": [
    {
     "data": {
      "text/plain": [
       "ContinuousorAlternatingArms\n",
       "Continuous     2745\n",
       "Alternating     271\n",
       "Name: count, dtype: int64"
      ]
     },
     "execution_count": 217,
     "metadata": {},
     "output_type": "execute_result"
    }
   ],
   "source": [
    "df['ContinuousorAlternatingArms'].value_counts()"
   ]
  },
  {
   "cell_type": "markdown",
   "metadata": {
    "id": "GdbdhkgKAohv"
   },
   "source": [
    "## Grip"
   ]
  },
  {
   "cell_type": "code",
   "execution_count": 218,
   "metadata": {
    "colab": {
     "base_uri": "https://localhost:8080/",
     "height": 680
    },
    "executionInfo": {
     "elapsed": 122,
     "status": "ok",
     "timestamp": 1743086138668,
     "user": {
      "displayName": "Pablo Oses",
      "userId": "17859425497206782554"
     },
     "user_tz": -60
    },
    "id": "FVyATnIHBbTc",
    "outputId": "5937cbe6-c480-47c4-fea4-6d9bd9ec312c"
   },
   "outputs": [
    {
     "data": {
      "text/plain": [
       "Grip\n",
       "Neutral                 1386\n",
       "Pronated                 724\n",
       "Bottoms Up               253\n",
       "No Grip                  213\n",
       "Supinated                102\n",
       "Flat Palm                102\n",
       "Goblet                    77\n",
       "Horn Grip                 39\n",
       "Hand Assisted             24\n",
       "Forearm                   23\n",
       "Crush Grip                22\n",
       "Head Supported            14\n",
       "Waiter Hold               12\n",
       "Bottoms Up Horn Grip      11\n",
       "False Grip                 6\n",
       "Other                      3\n",
       "Mixed Grip                 3\n",
       "Fingertip                  2\n",
       "Name: count, dtype: int64"
      ]
     },
     "execution_count": 218,
     "metadata": {},
     "output_type": "execute_result"
    }
   ],
   "source": [
    "df['Grip'].value_counts()"
   ]
  },
  {
   "cell_type": "markdown",
   "metadata": {
    "id": "xbiy6Fk8Atza"
   },
   "source": [
    "## LoadPositionEnding"
   ]
  },
  {
   "cell_type": "code",
   "execution_count": 219,
   "metadata": {
    "colab": {
     "base_uri": "https://localhost:8080/",
     "height": 586
    },
    "executionInfo": {
     "elapsed": 24,
     "status": "ok",
     "timestamp": 1743086138670,
     "user": {
      "displayName": "Pablo Oses",
      "userId": "17859425497206782554"
     },
     "user_tz": -60
    },
    "id": "uroJvMbfBdZj",
    "outputId": "c48db2e9-5813-41ec-9343-9f735dca4385"
   },
   "outputs": [
    {
     "data": {
      "text/plain": [
       "LoadPositionEnding\n",
       "Overhead       735\n",
       "No Load        624\n",
       "Other          491\n",
       "Front Rack     468\n",
       "Order          192\n",
       "Suitcase       153\n",
       "Above Chest     86\n",
       "Back Rack       74\n",
       "Behind Back     59\n",
       "Shoulder        32\n",
       "Zercher         30\n",
       "Low Hold        28\n",
       "Bear Hug        22\n",
       "Lateral         12\n",
       "Hip Crease      10\n",
       "Name: count, dtype: int64"
      ]
     },
     "execution_count": 219,
     "metadata": {},
     "output_type": "execute_result"
    }
   ],
   "source": [
    "df['LoadPositionEnding'].value_counts()"
   ]
  },
  {
   "cell_type": "markdown",
   "metadata": {
    "id": "QTl-tVkKAyTU"
   },
   "source": [
    "## ContinuousorAlternatingLegs"
   ]
  },
  {
   "cell_type": "code",
   "execution_count": 220,
   "metadata": {
    "colab": {
     "base_uri": "https://localhost:8080/",
     "height": 178
    },
    "executionInfo": {
     "elapsed": 11,
     "status": "ok",
     "timestamp": 1743086138672,
     "user": {
      "displayName": "Pablo Oses",
      "userId": "17859425497206782554"
     },
     "user_tz": -60
    },
    "id": "FDh_XkECBfJ8",
    "outputId": "07256b30-b828-4c05-fe2c-fcbf8d7d07e6"
   },
   "outputs": [
    {
     "data": {
      "text/plain": [
       "ContinuousorAlternatingLegs\n",
       "Continuous     2543\n",
       "Alternating     473\n",
       "Name: count, dtype: int64"
      ]
     },
     "execution_count": 220,
     "metadata": {},
     "output_type": "execute_result"
    }
   ],
   "source": [
    "df['ContinuousorAlternatingLegs'].value_counts()"
   ]
  },
  {
   "cell_type": "markdown",
   "metadata": {
    "id": "BSgdvQ5MAz77"
   },
   "source": [
    "## FootElevation"
   ]
  },
  {
   "cell_type": "code",
   "execution_count": 221,
   "metadata": {
    "colab": {
     "base_uri": "https://localhost:8080/",
     "height": 398
    },
    "executionInfo": {
     "elapsed": 6,
     "status": "ok",
     "timestamp": 1743087037135,
     "user": {
      "displayName": "Pablo Oses",
      "userId": "17859425497206782554"
     },
     "user_tz": -60
    },
    "id": "66wFtYazBhbF",
    "outputId": "6fcb45ad-f7fb-4c22-a47f-e548e977158e"
   },
   "outputs": [
    {
     "data": {
      "text/plain": [
       "FootElevation\n",
       "No Elevation               2568\n",
       "Foot Elevated (Front)       189\n",
       "Feet Elevated                59\n",
       "Foot Elevated (Rear)         59\n",
       "Heels Elevated               53\n",
       "Foot Elevated (Lateral)      45\n",
       "Toes Elevated                25\n",
       "Foot Elevated                 9\n",
       "Foot Elevated (Side)          9\n",
       "Name: count, dtype: int64"
      ]
     },
     "execution_count": 221,
     "metadata": {},
     "output_type": "execute_result"
    }
   ],
   "source": [
    "df['FootElevation'].value_counts()"
   ]
  },
  {
   "cell_type": "markdown",
   "metadata": {
    "id": "3HTF0RNqA1oy"
   },
   "source": [
    "## CombinationExercises"
   ]
  },
  {
   "cell_type": "code",
   "execution_count": 222,
   "metadata": {
    "colab": {
     "base_uri": "https://localhost:8080/",
     "height": 178
    },
    "executionInfo": {
     "elapsed": 3,
     "status": "ok",
     "timestamp": 1743086138697,
     "user": {
      "displayName": "Pablo Oses",
      "userId": "17859425497206782554"
     },
     "user_tz": -60
    },
    "id": "Ja6gkYgpBjZk",
    "outputId": "c5e331c1-f67c-4621-8a0b-e308b7159b9c"
   },
   "outputs": [
    {
     "data": {
      "text/plain": [
       "CombinationExercises\n",
       "Single Exercise    2822\n",
       "Combo Exercise      194\n",
       "Name: count, dtype: int64"
      ]
     },
     "execution_count": 222,
     "metadata": {},
     "output_type": "execute_result"
    }
   ],
   "source": [
    "df['CombinationExercises'].value_counts()"
   ]
  },
  {
   "cell_type": "markdown",
   "metadata": {
    "id": "4kdp5DCwA3ZR"
   },
   "source": [
    "## MovementPattern#1"
   ]
  },
  {
   "cell_type": "code",
   "execution_count": 223,
   "metadata": {
    "colab": {
     "base_uri": "https://localhost:8080/",
     "height": 1000
    },
    "executionInfo": {
     "elapsed": 6,
     "status": "ok",
     "timestamp": 1743086138705,
     "user": {
      "displayName": "Pablo Oses",
      "userId": "17859425497206782554"
     },
     "user_tz": -60
    },
    "id": "Q1NCwC1mBlqm",
    "outputId": "1a324cc9-218c-4c0f-b7a3-c62a155b3861"
   },
   "outputs": [
    {
     "data": {
      "text/plain": [
       "MovementPattern#1\n",
       "Knee Dominant                        1293\n",
       "Vertical Push                         240\n",
       "Rotational                            217\n",
       "Hip Hinge                             212\n",
       "Horizontal Push                       175\n",
       "Isometric Hold                        111\n",
       "Horizontal Pull                       105\n",
       "Elbow Flexion                          79\n",
       "Spinal Flexion                         53\n",
       "Ankle Plantar Flexion                  49\n",
       "Hip Extension                          49\n",
       "Anti-Extension                         42\n",
       "Vertical Pull                          41\n",
       "Elbow Extension                        38\n",
       "Shoulder External Rotation             35\n",
       "Loaded Carry                           34\n",
       "Anti-Rotational                        26\n",
       "Scapular Elevation                     19\n",
       "Shoulder Abduction                     18\n",
       "Hip Abduction                          16\n",
       "Anti-Lateral Flexion                   14\n",
       "Hip Adduction                          13\n",
       "Hip Flexion                            12\n",
       "Hip External Rotation                  10\n",
       "Shoulder Flexion                        8\n",
       "Unsorted*                               6\n",
       "Ankle Dorsiflexion                      6\n",
       "Shoulder Scapular Plane Elevation       3\n",
       "Hip Dominant                            2\n",
       "Spinal Extension                        2\n",
       "ç                                       1\n",
       "Lateral Flexion                         1\n",
       "Wrist Flexion                           1\n",
       "Wrist Extension                         1\n",
       "Shoulder Internal Rotation              1\n",
       "Anti-Flexion                            1\n",
       "Name: count, dtype: int64"
      ]
     },
     "execution_count": 223,
     "metadata": {},
     "output_type": "execute_result"
    }
   ],
   "source": [
    "df['MovementPattern#1'].value_counts()"
   ]
  },
  {
   "cell_type": "markdown",
   "metadata": {
    "id": "F35NODN4A5lu"
   },
   "source": [
    "## MovementPattern#2"
   ]
  },
  {
   "cell_type": "code",
   "execution_count": 224,
   "metadata": {
    "colab": {
     "base_uri": "https://localhost:8080/",
     "height": 649
    },
    "executionInfo": {
     "elapsed": 6,
     "status": "ok",
     "timestamp": 1743086138709,
     "user": {
      "displayName": "Pablo Oses",
      "userId": "17859425497206782554"
     },
     "user_tz": -60
    },
    "id": "zzL6EQtwBoEl",
    "outputId": "abe9844a-330b-41b6-8c49-31df7c7dcaa5"
   },
   "outputs": [
    {
     "data": {
      "text/plain": [
       "MovementPattern#2\n",
       "Vertical Push            104\n",
       "Hip Hinge                 61\n",
       "Knee Dominant             59\n",
       "Isometric Hold            55\n",
       "Spinal Flexion            15\n",
       "Anti-Lateral Flexion      13\n",
       "Anti-Rotational            9\n",
       "Anti-Extension             8\n",
       "Spinal Rotational          7\n",
       "Rotational                 7\n",
       "Horizontal Push            7\n",
       "Horizontal Pull            3\n",
       "Hip Extension              2\n",
       "Other                      2\n",
       "Hip External Rotation      2\n",
       "Hip Abduction              1\n",
       "Elbow Flexion              1\n",
       "Name: count, dtype: int64"
      ]
     },
     "execution_count": 224,
     "metadata": {},
     "output_type": "execute_result"
    }
   ],
   "source": [
    "df['MovementPattern#2'].value_counts()"
   ]
  },
  {
   "cell_type": "markdown",
   "metadata": {
    "id": "vloFkGqzA-UX"
   },
   "source": [
    "## MovementPattern#3"
   ]
  },
  {
   "cell_type": "code",
   "execution_count": 225,
   "metadata": {
    "colab": {
     "base_uri": "https://localhost:8080/",
     "height": 398
    },
    "executionInfo": {
     "elapsed": 4,
     "status": "ok",
     "timestamp": 1743086138714,
     "user": {
      "displayName": "Pablo Oses",
      "userId": "17859425497206782554"
     },
     "user_tz": -60
    },
    "id": "QRXLes7DBpzn",
    "outputId": "d6aa85bf-ea2e-4854-f705-c62c5ac13128"
   },
   "outputs": [
    {
     "data": {
      "text/plain": [
       "MovementPattern#3\n",
       "Knee Dominant            18\n",
       "Vertical Push             4\n",
       "Anti-Extension            4\n",
       "Horizontal Pull           3\n",
       "Hip Internal Rotation     2\n",
       "Hip Hinge                 2\n",
       "Rotational                1\n",
       "Isometric Hold            1\n",
       "Anti-Lateral Flexion      1\n",
       "Name: count, dtype: int64"
      ]
     },
     "execution_count": 225,
     "metadata": {},
     "output_type": "execute_result"
    }
   ],
   "source": [
    "df['MovementPattern#3'].value_counts()"
   ]
  },
  {
   "cell_type": "markdown",
   "metadata": {
    "id": "BUZ9EnE5BANm"
   },
   "source": [
    "## PlaneOfMotion 1"
   ]
  },
  {
   "cell_type": "code",
   "execution_count": 226,
   "metadata": {
    "colab": {
     "base_uri": "https://localhost:8080/",
     "height": 210
    },
    "executionInfo": {
     "elapsed": 5,
     "status": "ok",
     "timestamp": 1743086138732,
     "user": {
      "displayName": "Pablo Oses",
      "userId": "17859425497206782554"
     },
     "user_tz": -60
    },
    "id": "YrHo9V7xBrcZ",
    "outputId": "4a64c06d-a3b2-43c6-ef54-27bf7f1f29dd"
   },
   "outputs": [
    {
     "data": {
      "text/plain": [
       "PlaneOfMotion#1\n",
       "Sagittal Plane      2174\n",
       "Frontal Plane        532\n",
       "Transverse Plane     306\n",
       "Name: count, dtype: int64"
      ]
     },
     "execution_count": 226,
     "metadata": {},
     "output_type": "execute_result"
    }
   ],
   "source": [
    "df['PlaneOfMotion#1'].value_counts()"
   ]
  },
  {
   "cell_type": "markdown",
   "metadata": {
    "id": "0fOBJNE4BDJ2"
   },
   "source": [
    "## PlaneOfMotion#2"
   ]
  },
  {
   "cell_type": "code",
   "execution_count": 227,
   "metadata": {
    "colab": {
     "base_uri": "https://localhost:8080/",
     "height": 210
    },
    "executionInfo": {
     "elapsed": 14,
     "status": "ok",
     "timestamp": 1743086138743,
     "user": {
      "displayName": "Pablo Oses",
      "userId": "17859425497206782554"
     },
     "user_tz": -60
    },
    "id": "Ak4HwwSaBtB8",
    "outputId": "b50067fa-89a7-4b98-93f0-d80e461acd6d"
   },
   "outputs": [
    {
     "data": {
      "text/plain": [
       "PlaneOfMotion#2\n",
       "Sagittal Plane      30\n",
       "Frontal Plane       23\n",
       "Transverse Plane     3\n",
       "Name: count, dtype: int64"
      ]
     },
     "execution_count": 227,
     "metadata": {},
     "output_type": "execute_result"
    }
   ],
   "source": [
    "df['PlaneOfMotion#2'].value_counts()\n"
   ]
  },
  {
   "cell_type": "markdown",
   "metadata": {
    "id": "pldE-VIrBGL2"
   },
   "source": [
    "## PlaneOfMotion#3"
   ]
  },
  {
   "cell_type": "code",
   "execution_count": 228,
   "metadata": {
    "colab": {
     "base_uri": "https://localhost:8080/",
     "height": 147
    },
    "executionInfo": {
     "elapsed": 16,
     "status": "ok",
     "timestamp": 1743086138758,
     "user": {
      "displayName": "Pablo Oses",
      "userId": "17859425497206782554"
     },
     "user_tz": -60
    },
    "id": "VVGnyULYBvRK",
    "outputId": "151496dc-05eb-4e05-8683-7a0165050717"
   },
   "outputs": [
    {
     "data": {
      "text/plain": [
       "PlaneOfMotion#3\n",
       "Sagittal Plane    1\n",
       "Name: count, dtype: int64"
      ]
     },
     "execution_count": 228,
     "metadata": {},
     "output_type": "execute_result"
    }
   ],
   "source": [
    "df['PlaneOfMotion#3'].value_counts()"
   ]
  },
  {
   "cell_type": "markdown",
   "metadata": {
    "id": "BzZHaUGkBHQN"
   },
   "source": [
    "## BodyRegion"
   ]
  },
  {
   "cell_type": "code",
   "execution_count": 229,
   "metadata": {
    "colab": {
     "base_uri": "https://localhost:8080/",
     "height": 272
    },
    "executionInfo": {
     "elapsed": 13,
     "status": "ok",
     "timestamp": 1743086138760,
     "user": {
      "displayName": "Pablo Oses",
      "userId": "17859425497206782554"
     },
     "user_tz": -60
    },
    "id": "bVlP-aMLBxKj",
    "outputId": "01b4ff6c-7011-463b-93dc-dfb4583fcfae"
   },
   "outputs": [
    {
     "data": {
      "text/plain": [
       "BodyRegion\n",
       "Lower Body    1386\n",
       "Upper Body     829\n",
       "Full Body      461\n",
       "Midsection     271\n",
       "Unsorted*       69\n",
       "Name: count, dtype: int64"
      ]
     },
     "execution_count": 229,
     "metadata": {},
     "output_type": "execute_result"
    }
   ],
   "source": [
    "df['BodyRegion'].value_counts()"
   ]
  },
  {
   "cell_type": "markdown",
   "metadata": {
    "id": "w_wJx2TBBIrl"
   },
   "source": [
    "## ForceType"
   ]
  },
  {
   "cell_type": "code",
   "execution_count": 230,
   "metadata": {
    "colab": {
     "base_uri": "https://localhost:8080/",
     "height": 304
    },
    "executionInfo": {
     "elapsed": 9,
     "status": "ok",
     "timestamp": 1743086138761,
     "user": {
      "displayName": "Pablo Oses",
      "userId": "17859425497206782554"
     },
     "user_tz": -60
    },
    "id": "8bRD75zjByoU",
    "outputId": "cfbf12dc-6a77-4239-f236-1b3777c12950"
   },
   "outputs": [
    {
     "data": {
      "text/plain": [
       "ForceType\n",
       "Push           1675\n",
       "Other           545\n",
       "Pull            406\n",
       "Unsorted*       332\n",
       "Push & Pull      56\n",
       "*Unsorted         2\n",
       "Name: count, dtype: int64"
      ]
     },
     "execution_count": 230,
     "metadata": {},
     "output_type": "execute_result"
    }
   ],
   "source": [
    "df['ForceType'  ].value_counts()"
   ]
  },
  {
   "cell_type": "markdown",
   "metadata": {
    "id": "NMbqgduBBJoA"
   },
   "source": [
    "## Mechanics"
   ]
  },
  {
   "cell_type": "code",
   "execution_count": 231,
   "metadata": {
    "colab": {
     "base_uri": "https://localhost:8080/",
     "height": 210
    },
    "executionInfo": {
     "elapsed": 31,
     "status": "ok",
     "timestamp": 1743086138787,
     "user": {
      "displayName": "Pablo Oses",
      "userId": "17859425497206782554"
     },
     "user_tz": -60
    },
    "id": "G9tFkvuvB0dK",
    "outputId": "5f1ae843-f8cb-43b1-da0a-c53914be342a"
   },
   "outputs": [
    {
     "data": {
      "text/plain": [
       "Mechanics\n",
       "Compound     2731\n",
       "Isolation     270\n",
       "Pull            2\n",
       "Name: count, dtype: int64"
      ]
     },
     "execution_count": 231,
     "metadata": {},
     "output_type": "execute_result"
    }
   ],
   "source": [
    "df['Mechanics'].value_counts()"
   ]
  },
  {
   "cell_type": "markdown",
   "metadata": {
    "id": "dW14aBKbBKtw"
   },
   "source": [
    "## Laterality"
   ]
  },
  {
   "cell_type": "code",
   "execution_count": 232,
   "metadata": {
    "colab": {
     "base_uri": "https://localhost:8080/",
     "height": 241
    },
    "executionInfo": {
     "elapsed": 27,
     "status": "ok",
     "timestamp": 1743086138789,
     "user": {
      "displayName": "Pablo Oses",
      "userId": "17859425497206782554"
     },
     "user_tz": -60
    },
    "id": "dQGrsN7aB1sm",
    "outputId": "f59d2d5a-7c24-406c-c6db-346e2afed621"
   },
   "outputs": [
    {
     "data": {
      "text/plain": [
       "Laterality\n",
       "Unilateral       1553\n",
       "Bilateral        1088\n",
       "Contralateral     198\n",
       "Ipsilateral       177\n",
       "Name: count, dtype: int64"
      ]
     },
     "execution_count": 232,
     "metadata": {},
     "output_type": "execute_result"
    }
   ],
   "source": [
    "df['Laterality'].value_counts()"
   ]
  },
  {
   "cell_type": "markdown",
   "metadata": {
    "id": "I1zS335aBL2V"
   },
   "source": [
    "## PrimaryExerciseClassification"
   ]
  },
  {
   "cell_type": "code",
   "execution_count": 233,
   "metadata": {
    "colab": {
     "base_uri": "https://localhost:8080/",
     "height": 523
    },
    "executionInfo": {
     "elapsed": 8,
     "status": "ok",
     "timestamp": 1743086138791,
     "user": {
      "displayName": "Pablo Oses",
      "userId": "17859425497206782554"
     },
     "user_tz": -60
    },
    "id": "uSK0pTcvB3BO",
    "outputId": "e4f2bb71-fb46-488e-9e4b-c3c3cb810c19"
   },
   "outputs": [
    {
     "data": {
      "text/plain": [
       "PrimaryExerciseClassification\n",
       "Bodybuilding             1576\n",
       "Unsorted*                 537\n",
       "Calisthenics              292\n",
       "Ballistics                247\n",
       "Balance                   201\n",
       "Plyometric                 46\n",
       "Olympic Weightlifting      34\n",
       "Mobility                   33\n",
       "Grinds                     27\n",
       "Postural                    9\n",
       "Animal Flow                 7\n",
       "Powerlifting                5\n",
       "*Unsorted                   2\n",
       "Name: count, dtype: int64"
      ]
     },
     "execution_count": 233,
     "metadata": {},
     "output_type": "execute_result"
    }
   ],
   "source": [
    "df['PrimaryExerciseClassification'].value_counts()"
   ]
  },
  {
   "cell_type": "markdown",
   "metadata": {},
   "source": [
    "# Deleting useless columns"
   ]
  },
  {
   "cell_type": "code",
   "execution_count": 234,
   "metadata": {},
   "outputs": [],
   "source": [
    "columns_to_drop = [\n",
    "    'ShortYouTubeDemonstration','InDepthYouTubeExplanation','PrimeMoverMuscle', 'SecondaryMuscle', 'TertiaryMuscle', 'Posture', 'Grip',\n",
    "    'LoadPositionEnding', 'ContinuousorAlternatingLegs', 'FootElevation', 'SingleorDoubleArm',\n",
    "    'CombinationExercises', 'MovementPattern#1', 'MovementPattern#2',\n",
    "    'MovementPattern#3', 'PlaneOfMotion#1', 'PlaneOfMotion#2', 'PlaneOfMotion#3','ContinuousorAlternatingArms',\n",
    "    'Mechanics', 'Laterality'\n",
    "]\n",
    "df.drop(columns=columns_to_drop, inplace=True)"
   ]
  },
  {
   "cell_type": "code",
   "execution_count": 235,
   "metadata": {},
   "outputs": [
    {
     "data": {
      "text/html": [
       "<div>\n",
       "<style scoped>\n",
       "    .dataframe tbody tr th:only-of-type {\n",
       "        vertical-align: middle;\n",
       "    }\n",
       "\n",
       "    .dataframe tbody tr th {\n",
       "        vertical-align: top;\n",
       "    }\n",
       "\n",
       "    .dataframe thead th {\n",
       "        text-align: right;\n",
       "    }\n",
       "</style>\n",
       "<table border=\"1\" class=\"dataframe\">\n",
       "  <thead>\n",
       "    <tr style=\"text-align: right;\">\n",
       "      <th></th>\n",
       "      <th>Exercise</th>\n",
       "      <th>DifficultyLevel</th>\n",
       "      <th>TargetMuscleGroup</th>\n",
       "      <th>PrimaryEquipment</th>\n",
       "      <th>#PrimaryItems</th>\n",
       "      <th>SecondaryEquipment</th>\n",
       "      <th>#SecondaryItems</th>\n",
       "      <th>BodyRegion</th>\n",
       "      <th>ForceType</th>\n",
       "      <th>PrimaryExerciseClassification</th>\n",
       "    </tr>\n",
       "  </thead>\n",
       "  <tbody>\n",
       "    <tr>\n",
       "      <th>0</th>\n",
       "      <td>Stability Ball Dead Bug</td>\n",
       "      <td>Beginner</td>\n",
       "      <td>Abdominals</td>\n",
       "      <td>Stability Ball</td>\n",
       "      <td>1.0</td>\n",
       "      <td>NaN</td>\n",
       "      <td>0.0</td>\n",
       "      <td>Midsection</td>\n",
       "      <td>Other</td>\n",
       "      <td>Postural</td>\n",
       "    </tr>\n",
       "    <tr>\n",
       "      <th>1</th>\n",
       "      <td>Bodyweight Glute Bridge</td>\n",
       "      <td>Beginner</td>\n",
       "      <td>Glutes</td>\n",
       "      <td>Bodyweight</td>\n",
       "      <td>1.0</td>\n",
       "      <td>NaN</td>\n",
       "      <td>0.0</td>\n",
       "      <td>Lower Body</td>\n",
       "      <td>Unsorted*</td>\n",
       "      <td>Bodybuilding</td>\n",
       "    </tr>\n",
       "    <tr>\n",
       "      <th>2</th>\n",
       "      <td>Bodyweight Bird Dog</td>\n",
       "      <td>Beginner</td>\n",
       "      <td>Abdominals</td>\n",
       "      <td>Bodyweight</td>\n",
       "      <td>1.0</td>\n",
       "      <td>NaN</td>\n",
       "      <td>0.0</td>\n",
       "      <td>Midsection</td>\n",
       "      <td>Other</td>\n",
       "      <td>Postural</td>\n",
       "    </tr>\n",
       "    <tr>\n",
       "      <th>3</th>\n",
       "      <td>Stability Ball Russian Twist</td>\n",
       "      <td>Beginner</td>\n",
       "      <td>Abdominals</td>\n",
       "      <td>Stability Ball</td>\n",
       "      <td>1.0</td>\n",
       "      <td>NaN</td>\n",
       "      <td>0.0</td>\n",
       "      <td>Midsection</td>\n",
       "      <td>Other</td>\n",
       "      <td>Unsorted*</td>\n",
       "    </tr>\n",
       "    <tr>\n",
       "      <th>4</th>\n",
       "      <td>Stability Ball Feet Elevated Crunch</td>\n",
       "      <td>Beginner</td>\n",
       "      <td>Abdominals</td>\n",
       "      <td>Stability Ball</td>\n",
       "      <td>1.0</td>\n",
       "      <td>NaN</td>\n",
       "      <td>0.0</td>\n",
       "      <td>Midsection</td>\n",
       "      <td>Other</td>\n",
       "      <td>Unsorted*</td>\n",
       "    </tr>\n",
       "    <tr>\n",
       "      <th>...</th>\n",
       "      <td>...</td>\n",
       "      <td>...</td>\n",
       "      <td>...</td>\n",
       "      <td>...</td>\n",
       "      <td>...</td>\n",
       "      <td>...</td>\n",
       "      <td>...</td>\n",
       "      <td>...</td>\n",
       "      <td>...</td>\n",
       "      <td>...</td>\n",
       "    </tr>\n",
       "    <tr>\n",
       "      <th>3011</th>\n",
       "      <td>Single Arm Landmine Half Kneeling Ipsilateral ...</td>\n",
       "      <td>Intermediate</td>\n",
       "      <td>Shoulders</td>\n",
       "      <td>Landmine</td>\n",
       "      <td>1.0</td>\n",
       "      <td>NaN</td>\n",
       "      <td>0.0</td>\n",
       "      <td>Upper Body</td>\n",
       "      <td>Push</td>\n",
       "      <td>Unsorted*</td>\n",
       "    </tr>\n",
       "    <tr>\n",
       "      <th>3012</th>\n",
       "      <td>Stability Ball Copenhagen Plank</td>\n",
       "      <td>Intermediate</td>\n",
       "      <td>Adductors</td>\n",
       "      <td>Stability Ball</td>\n",
       "      <td>1.0</td>\n",
       "      <td>NaN</td>\n",
       "      <td>NaN</td>\n",
       "      <td>Lower Body</td>\n",
       "      <td>Other</td>\n",
       "      <td>Unsorted*</td>\n",
       "    </tr>\n",
       "    <tr>\n",
       "      <th>3013</th>\n",
       "      <td>Double Kettlebell Gorilla Clean</td>\n",
       "      <td>Advanced</td>\n",
       "      <td>Glutes</td>\n",
       "      <td>Kettlebell</td>\n",
       "      <td>2.0</td>\n",
       "      <td>NaN</td>\n",
       "      <td>0.0</td>\n",
       "      <td>Full Body</td>\n",
       "      <td>Unsorted*</td>\n",
       "      <td>Ballistics</td>\n",
       "    </tr>\n",
       "    <tr>\n",
       "      <th>3014</th>\n",
       "      <td>Stability Ball Side Plank</td>\n",
       "      <td>Intermediate</td>\n",
       "      <td>Abdominals</td>\n",
       "      <td>Stability Ball</td>\n",
       "      <td>1.0</td>\n",
       "      <td>NaN</td>\n",
       "      <td>0.0</td>\n",
       "      <td>Midsection</td>\n",
       "      <td>Other</td>\n",
       "      <td>Unsorted*</td>\n",
       "    </tr>\n",
       "    <tr>\n",
       "      <th>3015</th>\n",
       "      <td>Stability Ball Mountain Climber</td>\n",
       "      <td>Intermediate</td>\n",
       "      <td>Abdominals</td>\n",
       "      <td>Stability Ball</td>\n",
       "      <td>1.0</td>\n",
       "      <td>NaN</td>\n",
       "      <td>0.0</td>\n",
       "      <td>Midsection</td>\n",
       "      <td>Other</td>\n",
       "      <td>Unsorted*</td>\n",
       "    </tr>\n",
       "  </tbody>\n",
       "</table>\n",
       "<p>3016 rows × 10 columns</p>\n",
       "</div>"
      ],
      "text/plain": [
       "                                               Exercise DifficultyLevel  \\\n",
       "0                               Stability Ball Dead Bug        Beginner   \n",
       "1                               Bodyweight Glute Bridge        Beginner   \n",
       "2                                   Bodyweight Bird Dog        Beginner   \n",
       "3                          Stability Ball Russian Twist        Beginner   \n",
       "4                   Stability Ball Feet Elevated Crunch        Beginner   \n",
       "...                                                 ...             ...   \n",
       "3011  Single Arm Landmine Half Kneeling Ipsilateral ...    Intermediate   \n",
       "3012                    Stability Ball Copenhagen Plank    Intermediate   \n",
       "3013                    Double Kettlebell Gorilla Clean        Advanced   \n",
       "3014                          Stability Ball Side Plank    Intermediate   \n",
       "3015                    Stability Ball Mountain Climber    Intermediate   \n",
       "\n",
       "     TargetMuscleGroup PrimaryEquipment  #PrimaryItems SecondaryEquipment  \\\n",
       "0           Abdominals   Stability Ball            1.0                NaN   \n",
       "1               Glutes       Bodyweight            1.0                NaN   \n",
       "2           Abdominals       Bodyweight            1.0                NaN   \n",
       "3           Abdominals   Stability Ball            1.0                NaN   \n",
       "4           Abdominals   Stability Ball            1.0                NaN   \n",
       "...                ...              ...            ...                ...   \n",
       "3011         Shoulders         Landmine            1.0                NaN   \n",
       "3012         Adductors   Stability Ball            1.0                NaN   \n",
       "3013            Glutes       Kettlebell            2.0                NaN   \n",
       "3014        Abdominals   Stability Ball            1.0                NaN   \n",
       "3015        Abdominals   Stability Ball            1.0                NaN   \n",
       "\n",
       "      #SecondaryItems  BodyRegion  ForceType PrimaryExerciseClassification  \n",
       "0                 0.0  Midsection      Other                      Postural  \n",
       "1                 0.0  Lower Body  Unsorted*                  Bodybuilding  \n",
       "2                 0.0  Midsection      Other                      Postural  \n",
       "3                 0.0  Midsection      Other                     Unsorted*  \n",
       "4                 0.0  Midsection      Other                     Unsorted*  \n",
       "...               ...         ...        ...                           ...  \n",
       "3011              0.0  Upper Body       Push                     Unsorted*  \n",
       "3012              NaN  Lower Body      Other                     Unsorted*  \n",
       "3013              0.0   Full Body  Unsorted*                    Ballistics  \n",
       "3014              0.0  Midsection      Other                     Unsorted*  \n",
       "3015              0.0  Midsection      Other                     Unsorted*  \n",
       "\n",
       "[3016 rows x 10 columns]"
      ]
     },
     "execution_count": 235,
     "metadata": {},
     "output_type": "execute_result"
    }
   ],
   "source": [
    "df"
   ]
  },
  {
   "cell_type": "markdown",
   "metadata": {},
   "source": [
    "## Deleting Difficulty Levels\n",
    "\n",
    "Proceding to delete above Master's level"
   ]
  },
  {
   "cell_type": "code",
   "execution_count": null,
   "metadata": {},
   "outputs": [],
   "source": [
    "# Deleting ['Grand Master', 'Legendary'] from the dataset\n",
    "df.drop(df[df['DifficultyLevel'].isin(['Grand Master', 'Legendary'])].index, inplace=True)"
   ]
  },
  {
   "cell_type": "code",
   "execution_count": 237,
   "metadata": {},
   "outputs": [
    {
     "data": {
      "text/plain": [
       "DifficultyLevel\n",
       "Novice          1035\n",
       "Intermediate    1033\n",
       "Advanced         428\n",
       "Beginner         359\n",
       "Expert           118\n",
       "Master            32\n",
       "Grand Master       8\n",
       "Name: count, dtype: int64"
      ]
     },
     "execution_count": 237,
     "metadata": {},
     "output_type": "execute_result"
    }
   ],
   "source": [
    "df['DifficultyLevel'].value_counts()"
   ]
  },
  {
   "cell_type": "markdown",
   "metadata": {},
   "source": [
    "### Saving df as CleanedDataset.csv"
   ]
  },
  {
   "cell_type": "code",
   "execution_count": 239,
   "metadata": {},
   "outputs": [],
   "source": [
    "# Saving df as csv file\n",
    "df.to_csv('../assets/cleaned_data.csv', index=False)"
   ]
  }
 ],
 "metadata": {
  "colab": {
   "authorship_tag": "ABX9TyPT5echJ1w/5QEJSdfQYrru",
   "provenance": []
  },
  "kernelspec": {
   "display_name": ".venv",
   "language": "python",
   "name": "python3"
  },
  "language_info": {
   "codemirror_mode": {
    "name": "ipython",
    "version": 3
   },
   "file_extension": ".py",
   "mimetype": "text/x-python",
   "name": "python",
   "nbconvert_exporter": "python",
   "pygments_lexer": "ipython3",
   "version": "3.12.1"
  }
 },
 "nbformat": 4,
 "nbformat_minor": 0
}
