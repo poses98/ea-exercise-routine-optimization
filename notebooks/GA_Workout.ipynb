{
 "cells": [
  {
   "cell_type": "code",
   "execution_count": 2,
   "id": "063ee100",
   "metadata": {},
   "outputs": [
    {
     "name": "stdout",
     "output_type": "stream",
     "text": [
      "Defaulting to user installation because normal site-packages is not writeable\n",
      "Requirement already satisfied: inspyred in c:\\users\\marcos\\appdata\\roaming\\python\\python313\\site-packages (1.0.3)\n",
      "Requirement already satisfied: Click>=6.0 in c:\\users\\marcos\\appdata\\roaming\\python\\python313\\site-packages (from inspyred) (8.1.8)\n",
      "Requirement already satisfied: numpy in c:\\users\\marcos\\appdata\\roaming\\python\\python313\\site-packages (from inspyred) (2.2.2)\n",
      "Requirement already satisfied: colorama in c:\\users\\marcos\\appdata\\roaming\\python\\python313\\site-packages (from Click>=6.0->inspyred) (0.4.6)\n"
     ]
    }
   ],
   "source": [
    "!pip install inspyred"
   ]
  },
  {
   "cell_type": "code",
   "execution_count": null,
   "id": "246008a4",
   "metadata": {},
   "outputs": [],
   "source": [
    "import math\n",
    "import numpy as np\n",
    "import matplotlib.pyplot as plt\n",
    "from random import Random\n",
    "from time import time\n",
    "from inspyred import ec, benchmarks"
   ]
  },
  {
   "cell_type": "code",
   "execution_count": null,
   "id": "780dc5fd",
   "metadata": {},
   "outputs": [],
   "source": [
    "class WorkoutRoutine(benchmarks.Benchmark):\n",
    "    def __init__(self, userLevel, equipment, requestMuscles, time, userID, exercises):\n",
    "        self.userLevel = userLevel\n",
    "        self.time = time\n",
    "        self.exercises = exercises\n",
    "        length = time * 6 ##Tamaño del array se toma como valor el nivel beginner que como mucho son 6 ejercicios por hora\n",
    "        benchmarks.Benchmark.__init__(self, length)\n",
    "        self.equipment = equipment\n",
    "        self.requestMuscles = requestMuscles\n",
    "        self.userID = userID\n",
    "        self.maximize = True\n",
    "        self.bounder = ec.DiscreteBounder([1,3005])\n",
    "    \n",
    "    def generator(self, random):\n",
    "        return random.choice(i for _ in range(3005))\n",
    "\n",
    "\n",
    "    def evaluator(self, candidates):\n",
    "        fitness = []\n",
    "        for candidate in candidates:\n",
    "            value = 100\n",
    "            mins = self.total_mins(self,candidate)\n",
    "            value = value * (mins / self.time * 60)\n",
    "            value = value * self.used_equipment(self,candidate)\n",
    "            value = value * self.trained_muscles(self,candidate)\n",
    "\n",
    "            bonus = calculate_bonus(self,candidate)\n",
    "            if value + bonus < 100:\n",
    "                value += bonus\n",
    "            else:\n",
    "                value = 100\n",
    "\n",
    "\n",
    "    def parseDificultad(dificultad):\n",
    "        dificultad = dificultad.strip().lower()\n",
    "        mapa_dificultad = {\n",
    "            \"beginner\": 10,\n",
    "            \"novice\": 12,\n",
    "            \"intermediate\": 14,\n",
    "            \"advanced\": 16,\n",
    "            \"expert\": 18,\n",
    "            \"master\": 20\n",
    "        }\n",
    "        return mapa_dificultad.get(dificultad, None)\n",
    "    \n",
    "\n",
    "    def total_mins(self,candidate):\n",
    "        sum = 0\n",
    "        for exercise in candidate:\n",
    "            sum += self.parseDificultad(exercise) ##Añadir atributo de minutos\n",
    "        return sum\n",
    "    \n",
    "    def used_equipment(self, candidate):\n",
    "        used = []\n",
    "        for exercise in candidate:\n",
    "            if exercise.PrimaryEquipment != '' or exercise.PrimaryEquipment not in used:##Equipamiento##\n",
    "                used.append(exercise.PrimaryEquipment)\n",
    "            if exercise.SecondaryEquipment != '' or exercise.SecondaryEquipment not in used:##Equipamiento##\n",
    "                used.append(exercise.SecondaryEquipment)\n",
    "        return 0.1 * (len(used)/len(self.equipment)) + 0.9\n",
    "    \n",
    "\n",
    "    def trained_muscles(self, candidate):\n",
    "        muscle_trained = []\n",
    "        for exercise in candidate:\n",
    "            if exercise.TargetMuscleGroup not in muscle_trained:##Equipamiento##\n",
    "                muscle_trained.append(exercise.TargetMuscleGroup)\n",
    "        \n",
    "        return len(muscle_trained)/len(self.requestMuscles)\n",
    "    \n",
    "    def calculate_bonus(self, candidate):\n",
    "        requested_regions = []\n",
    "        total_bonus = 0\n",
    "        for muscle in self.requestMuscles:\n",
    "            ##Coger las diferentes bodyregion de los requestMuscles\n",
    "            --\n",
    "        for exercise in candidate:\n",
    "            if exercise.BodyRegion in requested_regions and exercise.TargetMuscleGroup not in self.requestMuscles:\n",
    "                total_bonus += 0.1\n",
    "            elif exercise.TargetMuscleGroup not in self.requestMuscles:\n",
    "                total_bonus += 0.05\n",
    "        \n",
    "        return total_bonus"
   ]
  },
  {
   "cell_type": "code",
   "execution_count": null,
   "id": "cb1e73ac",
   "metadata": {},
   "outputs": [
    {
     "ename": "NameError",
     "evalue": "name 'self' is not defined",
     "output_type": "error",
     "traceback": [
      "\u001b[1;31m---------------------------------------------------------------------------\u001b[0m",
      "\u001b[1;31mNameError\u001b[0m                                 Traceback (most recent call last)",
      "Cell \u001b[1;32mIn[10], line 1\u001b[0m\n\u001b[1;32m----> 1\u001b[0m WorkoutRoutine\u001b[38;5;241m.\u001b[39mgenerator(\u001b[38;5;28;43mself\u001b[39;49m,random)\n",
      "\u001b[1;31mNameError\u001b[0m: name 'self' is not defined"
     ]
    }
   ],
   "source": []
  }
 ],
 "metadata": {
  "kernelspec": {
   "display_name": "Python 3",
   "language": "python",
   "name": "python3"
  },
  "language_info": {
   "codemirror_mode": {
    "name": "ipython",
    "version": 3
   },
   "file_extension": ".py",
   "mimetype": "text/x-python",
   "name": "python",
   "nbconvert_exporter": "python",
   "pygments_lexer": "ipython3",
   "version": "3.13.1"
  }
 },
 "nbformat": 4,
 "nbformat_minor": 5
}
